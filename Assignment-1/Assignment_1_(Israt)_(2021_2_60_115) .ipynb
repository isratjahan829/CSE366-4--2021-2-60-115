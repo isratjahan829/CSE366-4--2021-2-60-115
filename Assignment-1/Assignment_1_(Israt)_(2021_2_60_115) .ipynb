{
  "nbformat": 4,
  "nbformat_minor": 0,
  "metadata": {
    "colab": {
      "provenance": [],
      "gpuType": "T4"
    },
    "kernelspec": {
      "name": "python3",
      "display_name": "Python 3"
    },
    "language_info": {
      "name": "python"
    },
    "accelerator": "GPU"
  },
  "cells": [
    {
      "cell_type": "markdown",
      "source": [
        "#**Objective:** Design and implement an advanced simulation environment for a robot navigating through a dynamically created grid. This project aims to deepen understanding of basic programming concepts, object-oriented programming (OOP), algorithms for navigation and pathfinding, task optimization, safety, and energy management strategies."
      ],
      "metadata": {
        "id": "ALJG4BNWH4hb"
      }
    },
    {
      "cell_type": "markdown",
      "source": [
        "• Robot with movement capabilities and tracking of its current position. Include methods to manage the robot's energy levels and battery status, incorporating task optimization and safety for efficient and safe navigation.\n",
        "\n",
        "• Battery Management: The robot starts with a battery level of 100%. For each\n",
        "move from one block to another, the battery level decreases by 10%. If the\n",
        "battery level reaches 0%, the robot must recharge to 100% before continuing."
      ],
      "metadata": {
        "id": "h064-BsNrp8A"
      }
    },
    {
      "cell_type": "code",
      "source": [
        "import numpy as np\n",
        "import matplotlib.pyplot as plt\n",
        "from collections import deque\n",
        "import heapq\n",
        "\n",
        "class PriorityQueue:\n",
        "    def __init__(self):\n",
        "        self.elements = []\n",
        "\n",
        "    def empty(self):\n",
        "        return len(self.elements) == 0\n",
        "\n",
        "    def put(self, item, priority):\n",
        "        heapq.heappush(self.elements, (priority, item))\n",
        "\n",
        "    def get(self):\n",
        "        return heapq.heappop(self.elements)[1]\n",
        "\n",
        "# Node Class represents a state in the search tree.\n",
        "class Node:\n",
        "    def __init__(self, state, parent=None, action=None, path_cost=0, battery_level=1.0):\n",
        "        self.state = state  # The current position of the agent in the grid.\n",
        "        self.parent = parent  # The node in the search tree that generated this node.\n",
        "        self.action = action  # The action taken to get to this state.\n",
        "        self.path_cost = path_cost  # Cost from the start node to this node.\n",
        "        self.battery_level = battery_level  # Battery level (percentage).\n",
        "\n",
        "    # Comparison operator for priority queue.\n",
        "    def __lt__(self, other):\n",
        "        return self.path_cost < other.path_cost"
      ],
      "metadata": {
        "id": "FW6_1denpvJ5"
      },
      "execution_count": 2,
      "outputs": []
    },
    {
      "cell_type": "markdown",
      "source": [
        "##Implement a class Environment\n"
      ],
      "metadata": {
        "id": "E3L5C5Wwp3xO"
      }
    },
    {
      "cell_type": "code",
      "source": [
        "# Environment Class represents the grid and handles state transitions.\n",
        "class Environment:\n",
        "    def __init__(self, grid, start, goal):\n",
        "        self.grid = grid  # The grid layout where 1 represents an obstacle and 0 is free space.\n",
        "        self.initial = start  # Starting position of the agent.\n",
        "        self.goal = goal  # Goal position the agent aims to reach.\n",
        "\n",
        "    # Returns the possible actions from a given state.\n",
        "    def actions(self, state):\n",
        "        possible_actions = ['UP', 'DOWN', 'LEFT', 'RIGHT']\n",
        "        x, y = state\n",
        "\n",
        "        # Remove impossible actions based on grid boundaries and obstacles.\n",
        "        if x == 0 or self.grid[x - 1][y] == 1:\n",
        "            possible_actions.remove('UP')\n",
        "        if x == len(self.grid) - 1 or self.grid[x + 1][y] == 1:\n",
        "            possible_actions.remove('DOWN')\n",
        "        if y == 0 or self.grid[x][y - 1] == 1:\n",
        "            possible_actions.remove('LEFT')\n",
        "        if y == len(self.grid[0]) - 1 or self.grid[x][y + 1] == 1:\n",
        "            possible_actions.remove('RIGHT')\n",
        "\n",
        "        return possible_actions\n",
        "\n",
        "    # Returns the state resulting from taking a given action at a given state.\n",
        "    def result(self, state, action):\n",
        "        x, y = state\n",
        "        if action == 'UP':\n",
        "            return (x - 1, y)\n",
        "        if action == 'DOWN':\n",
        "            return (x + 1, y)\n",
        "        if action == 'LEFT':\n",
        "            return (x, y - 1)\n",
        "        if action == 'RIGHT':\n",
        "            return (x, y + 1)\n",
        "\n",
        "    # Checks if the goal has been reached.\n",
        "    def is_goal(self, state):\n",
        "        return state == self.goal"
      ],
      "metadata": {
        "id": "W7orqanJYnsE"
      },
      "execution_count": 3,
      "outputs": []
    },
    {
      "cell_type": "markdown",
      "source": [
        "##Implement a class Agent (Using UCS Search)\n"
      ],
      "metadata": {
        "id": "1jrxDoqzqPvT"
      }
    },
    {
      "cell_type": "code",
      "source": [
        "class Agent_ucs:\n",
        "    def __init__(self, env):\n",
        "        self.env = env\n",
        "        self.recharge_count = 0  # Variable to track the number of times the battery was charged\n",
        "\n",
        "    def uniform_cost_search(self):\n",
        "        max_retries = 3  # Set a maximum number of recharge retries\n",
        "        retries = 0\n",
        "\n",
        "        while retries < max_retries:\n",
        "            frontier = PriorityQueue()  # Priority queue for UCS.\n",
        "            initial_node = Node(self.env.initial, path_cost=0, battery_level=1.0)\n",
        "            frontier.put(initial_node, 0)\n",
        "            came_from = {self.env.initial: None}\n",
        "            cost_so_far = {self.env.initial: 0}\n",
        "            battery_levels = {self.env.initial: 1.0}\n",
        "\n",
        "            while not frontier.empty():\n",
        "                current_node = frontier.get()\n",
        "\n",
        "                if self.env.is_goal(current_node.state):\n",
        "                    return self.reconstruct_path(came_from, current_node.state), battery_levels\n",
        "\n",
        "                for action in self.env.actions(current_node.state):\n",
        "                    new_state = self.env.result(current_node.state, action)\n",
        "                    new_cost = cost_so_far[current_node.state] + 1  # Assuming uniform cost for simplicity; adjust if varying costs.\n",
        "                    new_battery_level = current_node.battery_level - 0.1  # Decrease battery level by 10% for each move\n",
        "\n",
        "                    # Check if the battery level is sufficient\n",
        "                    if new_battery_level <= 0.1:\n",
        "                        # Recharge the battery to 100%\n",
        "                        new_battery_level = 1.0\n",
        "                        self.recharge_count += 1  # Increment the recharge count\n",
        "\n",
        "                    if new_state not in cost_so_far or new_cost < cost_so_far[new_state]:\n",
        "                        cost_so_far[new_state] = new_cost\n",
        "                        priority = new_cost\n",
        "                        new_node = Node(new_state, current_node, action, new_cost, new_battery_level)\n",
        "                        frontier.put(new_node, priority)\n",
        "                        came_from[new_state] = current_node.state\n",
        "                        battery_levels[new_state] = new_battery_level\n",
        "\n",
        "            # If no valid path found, recharge and retry\n",
        "            print(\"Recharging and retrying...\")\n",
        "            retries += 1\n",
        "            # Simulate recharging by setting the battery level to 100%\n",
        "            initial_node = Node(self.env.initial, path_cost=0, battery_level=1.0)\n",
        "            frontier.put(initial_node, 0)\n",
        "            came_from = {self.env.initial: None}\n",
        "            cost_so_far = {self.env.initial: 0}\n",
        "            battery_levels = {self.env.initial: 1.0}\n",
        "\n",
        "        print(\"Max retries reached. No valid path found.\")\n",
        "        return [], {}\n",
        "\n",
        "    def reconstruct_path(self, came_from, current):\n",
        "        path = []\n",
        "        while current in came_from:\n",
        "            path.append(current)\n",
        "            current = came_from[current]\n",
        "        path.append(self.env.initial)\n",
        "        path.reverse()\n",
        "        return path"
      ],
      "metadata": {
        "id": "apY93PbvbJ4u"
      },
      "execution_count": 8,
      "outputs": []
    },
    {
      "cell_type": "markdown",
      "source": [
        "###**Using A* Search**"
      ],
      "metadata": {
        "id": "LwLuar09seqg"
      }
    },
    {
      "cell_type": "code",
      "source": [
        "import numpy as np\n",
        "import matplotlib.pyplot as plt\n",
        "from collections import deque\n",
        "import heapq\n",
        "\n",
        "class PriorityQueue:\n",
        "    def __init__(self):\n",
        "        self.elements = []\n",
        "\n",
        "    def empty(self):\n",
        "        return len(self.elements) == 0\n",
        "\n",
        "    def put(self, item, priority):\n",
        "        heapq.heappush(self.elements, (priority, item))\n",
        "\n",
        "    def get(self):\n",
        "        return heapq.heappop(self.elements)[1]\n",
        "\n",
        "# Node Class represents a state in the search tree.\n",
        "class Node:\n",
        "    def __init__(self, state, parent=None, action=None, path_cost=0, battery_level=1.0):\n",
        "        self.state = state  # The current position of the agent in the grid.\n",
        "        self.parent = parent  # The node in the search tree that generated this node.\n",
        "        self.action = action  # The action taken to get to this state.\n",
        "        self.path_cost = path_cost  # Cost from the start node to this node.\n",
        "        self.battery_level = battery_level  # Battery level (percentage).\n",
        "\n",
        "    # Comparison operator for priority queue.\n",
        "    def __lt__(self, other):\n",
        "        return self.path_cost < other.path_cost"
      ],
      "metadata": {
        "id": "_Ddz_qc31jYw"
      },
      "execution_count": 9,
      "outputs": []
    },
    {
      "cell_type": "code",
      "source": [
        "def heuristic(a, b):\n",
        "    \"\"\"\n",
        "    Calculate the Manhattan distance between two points a and b.\n",
        "\n",
        "    Parameters:\n",
        "    - a: Tuple representing the x and y coordinates of point a (e.g., (x1, y1))\n",
        "    - b: Tuple representing the x and y coordinates of point b (e.g., (x2, y2))\n",
        "\n",
        "    Returns:\n",
        "    - The Manhattan distance between points a and b.\n",
        "    \"\"\"\n",
        "    (x1, y1) = a\n",
        "    (x2, y2) = b\n",
        "    return abs(x1 - x2) + abs(y1 - y2)\n"
      ],
      "metadata": {
        "id": "iMx6TpHdx3_V"
      },
      "execution_count": 10,
      "outputs": []
    },
    {
      "cell_type": "code",
      "source": [
        "class Agent_aStar:\n",
        "    def __init__(self, env):\n",
        "        self.env = env\n",
        "        self.recharge_count = 0  # Variable to track the number of times the battery was charged\n",
        "\n",
        "    def a_star_search(self):\n",
        "        max_retries = 3  # Set a maximum number of recharge retries\n",
        "        retries = 0\n",
        "\n",
        "        while retries < max_retries:\n",
        "            frontier = PriorityQueue()  # Priority queue for A*.\n",
        "            initial_node = Node(self.env.initial, path_cost=0, battery_level=1.0)\n",
        "            frontier.put(initial_node, 0)\n",
        "            came_from = {self.env.initial: None}\n",
        "            cost_so_far = {self.env.initial: 0}\n",
        "            battery_levels = {self.env.initial: 1.0}\n",
        "\n",
        "            while not frontier.empty():\n",
        "                current_node = frontier.get()\n",
        "\n",
        "                if self.env.is_goal(current_node.state):\n",
        "                    return self.reconstruct_path(came_from, current_node.state), battery_levels\n",
        "\n",
        "                for action in self.env.actions(current_node.state):\n",
        "                    new_state = self.env.result(current_node.state, action)\n",
        "                    new_cost = cost_so_far[current_node.state] + 1  # Uniform cost for each move.\n",
        "                    new_battery_level = current_node.battery_level - 0.1  # Decrease battery level by 10% for each move.\n",
        "\n",
        "                    # Check if the battery level is sufficient\n",
        "                    if new_battery_level <= 0.1:\n",
        "                        # Recharge the battery to 100%\n",
        "                        new_battery_level = 1.0\n",
        "                        self.recharge_count += 1  # Increment the recharge count\n",
        "\n",
        "                    if new_state not in cost_so_far or new_cost < cost_so_far[new_state]:\n",
        "                        cost_so_far[new_state] = new_cost\n",
        "                        priority = new_cost + heuristic(new_state, self.env.goal)  # f-cost = g-cost + h-cost\n",
        "                        new_node = Node(new_state, current_node, action, new_cost, new_battery_level)\n",
        "                        frontier.put(new_node, priority)\n",
        "                        came_from[new_state] = current_node.state\n",
        "                        battery_levels[new_state] = new_battery_level\n",
        "\n",
        "            # If no valid path found, recharge and retry\n",
        "            print(\"Recharging and retrying...\")\n",
        "            retries += 1\n",
        "            # Simulate recharging by setting the battery level to 100%\n",
        "            initial_node = Node(self.env.initial, path_cost=0, battery_level=1.0)\n",
        "            frontier.put(initial_node, 0)\n",
        "            came_from = {self.env.initial: None}\n",
        "            cost_so_far = {self.env.initial: 0}\n",
        "            battery_levels = {self.env.initial: 1.0}\n",
        "\n",
        "        print(\"Max retries reached. No valid path found.\")\n",
        "        return [], {}\n",
        "\n",
        "    def reconstruct_path(self, came_from, current):\n",
        "        path = []\n",
        "        while current is not None:\n",
        "            path.append(current)\n",
        "            current = came_from[current]\n",
        "        path.reverse()\n",
        "        return path"
      ],
      "metadata": {
        "id": "xM-tgIa0siFS"
      },
      "execution_count": 11,
      "outputs": []
    },
    {
      "cell_type": "markdown",
      "source": [
        "##Visualize the grid, obstacles, paths, and the robot's energy levels over time."
      ],
      "metadata": {
        "id": "jhtTCyinq4ds"
      }
    },
    {
      "cell_type": "code",
      "source": [
        "def visualize_grid_and_path(grid, path, battery_levels):\n",
        "    if not path:\n",
        "        print(\"No valid path found.\")\n",
        "        return\n",
        "\n",
        "    grid_array = np.array(grid)  # Convert grid to numpy array for easy plotting.\n",
        "    fig, ax = plt.subplots()\n",
        "    ax.imshow(grid_array, cmap='Greys', alpha=0.3)  # Grid background.\n",
        "\n",
        "    start = path[0]\n",
        "    goal = path[-1]\n",
        "    ax.plot(start[1], start[0], 'bs', markersize=10)  # Start position in blue.\n",
        "    ax.plot(goal[1], goal[0], 'gs', markersize=10)  # Goal position in green.\n",
        "\n",
        "    xs, ys = zip(*path)  # Extract X and Y coordinates of the path.\n",
        "    ax.plot(ys, xs, 'r-', linewidth=2)  # Plot the path in red.\n",
        "\n",
        "    # Plot battery levels\n",
        "    for pos, battery_level in battery_levels.items():\n",
        "        ax.text(pos[1], pos[0], f'{battery_level:.0%}', color='blue', ha='center', va='center', fontsize=8)\n",
        "\n",
        "    ax.set_xticks(np.arange(-.5, len(grid[0]), 1), minor=True)\n",
        "    ax.set_yticks(np.arange(-.5, len(grid), 1), minor=True)\n",
        "    ax.grid(which=\"minor\", color=\"b\", linestyle='-', linewidth=1)\n",
        "    ax.tick_params(which=\"minor\", size=0)\n",
        "    ax.tick_params(which=\"major\", bottom=False, left=False, labelbottom=False, labelleft=False)\n",
        "    plt.show()\n"
      ],
      "metadata": {
        "id": "yJhIGE7wbPLi"
      },
      "execution_count": 12,
      "outputs": []
    },
    {
      "cell_type": "markdown",
      "source": [
        "##Simulate the robot's movement through the 10x10 grid"
      ],
      "metadata": {
        "id": "XF_yqdrHrYop"
      }
    },
    {
      "cell_type": "markdown",
      "source": [
        "**For UCS**"
      ],
      "metadata": {
        "id": "3J1weUFur4yq"
      }
    },
    {
      "cell_type": "code",
      "source": [
        "# Generate a 10x10 grid with random obstacles\n",
        "grid_size = 10\n",
        "obstacle_prob = 0.3\n",
        "\n",
        "while True:\n",
        "    grid = np.random.choice([0, 1], size=(grid_size, grid_size), p=[1 - obstacle_prob, obstacle_prob])\n",
        "    start = (np.random.randint(grid_size), np.random.randint(grid_size))\n",
        "    goal = (np.random.randint(grid_size), np.random.randint(grid_size))\n",
        "\n",
        "    if grid[start[0]][start[1]] == 0 and grid[goal[0]][goal[1]] == 0:\n",
        "        break\n",
        "\n",
        "# Create the environment and agent\n",
        "environment = Environment(grid, start, goal)\n",
        "agent_ucs = Agent_ucs(environment)\n",
        "\n",
        "# Solve the problem with Uniform Cost Search\n",
        "solution_path, battery_levels = agent_ucs.uniform_cost_search()\n",
        "print(\"Solution Path:\", solution_path)\n",
        "\n",
        "recharge_count = agent_ucs.recharge_count\n",
        "print(\"Recharge Count:\", recharge_count)\n",
        "\n",
        "# Visualize the solution\n",
        "visualize_grid_and_path(grid, solution_path, battery_levels)"
      ],
      "metadata": {
        "colab": {
          "base_uri": "https://localhost:8080/",
          "height": 441
        },
        "id": "pw5Z9u6FbR-H",
        "outputId": "de99aba9-af25-4b73-89b7-6f5e290fa443"
      },
      "execution_count": 13,
      "outputs": [
        {
          "output_type": "stream",
          "name": "stdout",
          "text": [
            "Solution Path: [(8, 6), (8, 6), (8, 5), (7, 5), (6, 5), (6, 4), (5, 4), (4, 4), (4, 3)]\n",
            "Recharge Count: 0\n"
          ]
        },
        {
          "output_type": "display_data",
          "data": {
            "text/plain": [
              "<Figure size 640x480 with 1 Axes>"
            ],
            "image/png": "[encoded data removed]"
          },
          "metadata": {}
        }
      ]
    },
    {
      "cell_type": "markdown",
      "source": [
        "**For A* Search**"
      ],
      "metadata": {
        "id": "RYS-pq8rr7f4"
      }
    },
    {
      "cell_type": "code",
      "source": [
        "# Generate a 10x10 grid with random obstacles\n",
        "grid_size = 10\n",
        "obstacle_prob = 0.3\n",
        "\n",
        "while True:\n",
        "    grid = np.random.choice([0, 1], size=(grid_size, grid_size), p=[1 - obstacle_prob, obstacle_prob])\n",
        "    start = (np.random.randint(grid_size), np.random.randint(grid_size))\n",
        "    goal = (np.random.randint(grid_size), np.random.randint(grid_size))\n",
        "\n",
        "    if grid[start[0]][start[1]] == 0 and grid[goal[0]][goal[1]] == 0:\n",
        "        break\n",
        "\n",
        "# Create the environment and agent\n",
        "environment = Environment(grid, start, goal)\n",
        "agent_aStar = Agent_aStar(environment)\n",
        "\n",
        "# Solve the problem with A* Search\n",
        "solution_path, battery_levels = agent_aStar.a_star_search()\n",
        "print(\"Solution Path:\", solution_path)\n",
        "\n",
        "recharge_count = agent_aStar.recharge_count\n",
        "print(\"Recharge Count:\", recharge_count)\n",
        "\n",
        "# Visualize the solution\n",
        "visualize_grid_and_path(grid, solution_path, battery_levels)"
      ],
      "metadata": {
        "colab": {
          "base_uri": "https://localhost:8080/",
          "height": 441
        },
        "id": "_SbCkV6WsA5F",
        "outputId": "421aeea9-7b1b-41cc-b447-33446cef83c0"
      },
      "execution_count": 21,
      "outputs": [
        {
          "output_type": "stream",
          "name": "stdout",
          "text": [
            "Solution Path: [(1, 2), (0, 2), (0, 3), (0, 4), (1, 4), (2, 4), (3, 4), (4, 4), (5, 4), (6, 4), (7, 4), (7, 3), (7, 2), (7, 1), (8, 1), (8, 0)]\n",
            "Recharge Count: 5\n"
          ]
        },
        {
          "output_type": "display_data",
          "data": {
            "text/plain": [
              "<Figure size 640x480 with 1 Axes>"
            ],
            "image/png": "[encoded data removed]"
          },
          "metadata": {}
        }
      ]
    },
    {
      "cell_type": "markdown",
      "source": [
        "Here we can compare the both algorithms by the visited grids and recharge counts which was needed to find an optimal path from start to end."
      ],
      "metadata": {
        "id": "yDpX2w010zAJ"
      }
    },
    {
      "cell_type": "code",
      "source": [
        "# Generate a 10x10 grid with random obstacles\n",
        "grid_size = 10\n",
        "obstacle_prob = 0.3\n",
        "\n",
        "while True:\n",
        "    grid = np.random.choice([0, 1], size=(grid_size, grid_size), p=[1 - obstacle_prob, obstacle_prob])\n",
        "    start = (np.random.randint(grid_size), np.random.randint(grid_size))\n",
        "    goal = (np.random.randint(grid_size), np.random.randint(grid_size))\n",
        "\n",
        "    if grid[start[0]][start[1]] == 0 and grid[goal[0]][goal[1]] == 0:\n",
        "        break\n",
        "\n",
        "# Create the environment and agent\n",
        "environment = Environment(grid, start, goal)\n",
        "agent_ucs = Agent_ucs(environment)\n",
        "agent_aStar = Agent_aStar(environment)\n",
        "\n",
        "# Solve the problem with Uniform Cost Search\n",
        "print(\"Uniform Cost Search\")\n",
        "solution_path, battery_levels = agent_ucs.uniform_cost_search()\n",
        "print(\"Solution Path:\", solution_path)\n",
        "\n",
        "recharge_count = agent_ucs.recharge_count\n",
        "print(\"Recharge Count:\", recharge_count)\n",
        "\n",
        "# Visualize the solution\n",
        "visualize_grid_and_path(grid, solution_path, battery_levels)\n",
        "\n",
        "\n",
        "\n",
        "# Solve the problem with A* Search\n",
        "print(\"A Star Search\")\n",
        "solution_path, battery_levels = agent_aStar.a_star_search()\n",
        "print(\"Solution Path:\", solution_path)\n",
        "\n",
        "recharge_count = agent_aStar.recharge_count\n",
        "print(\"Recharge Count:\", recharge_count)\n",
        "\n",
        "# Visualize the solution\n",
        "visualize_grid_and_path(grid, solution_path, battery_levels)"
      ],
      "metadata": {
        "colab": {
          "base_uri": "https://localhost:8080/",
          "height": 899
        },
        "id": "Q7ujEQmkzuQk",
        "outputId": "5f6c4127-b1c6-439e-858c-8ace20de66db"
      },
      "execution_count": 24,
      "outputs": [
        {
          "output_type": "stream",
          "name": "stdout",
          "text": [
            "Uniform Cost Search\n",
            "Solution Path: [(8, 2), (8, 2), (7, 2), (7, 3), (7, 4), (6, 4), (5, 4), (5, 5), (4, 5), (3, 5), (2, 5), (2, 6), (2, 7), (2, 8), (2, 9)]\n",
            "Recharge Count: 13\n"
          ]
        },
        {
          "output_type": "display_data",
          "data": {
            "text/plain": [
              "<Figure size 640x480 with 1 Axes>"
            ],
            "image/png": "[encoded data removed]"
          },
          "metadata": {}
        },
        {
          "output_type": "stream",
          "name": "stdout",
          "text": [
            "A Star Search\n",
            "Solution Path: [(8, 2), (7, 2), (7, 3), (7, 4), (6, 4), (6, 5), (6, 6), (5, 6), (5, 7), (4, 7), (3, 7), (2, 7), (2, 8), (2, 9)]\n",
            "Recharge Count: 13\n"
          ]
        },
        {
          "output_type": "display_data",
          "data": {
            "text/plain": [
              "<Figure size 640x480 with 1 Axes>"
            ],
            "image/png": "[encoded data removed]"
          },
          "metadata": {}
        }
      ]
    }
  ]
}