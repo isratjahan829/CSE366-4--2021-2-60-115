{
  "nbformat": 4,
  "nbformat_minor": 0,
  "metadata": {
    "colab": {
      "private_outputs": true,
      "provenance": [],
      "toc_visible": true
    },
    "kernelspec": {
      "name": "python3",
      "display_name": "Python 3"
    },
    "language_info": {
      "name": "python"
    }
  },
  "cells": [
    {
      "cell_type": "markdown",
      "source": [
        "#Robot Task Optimization Using Genetic Algorithm"
      ],
      "metadata": {
        "id": "LvSC10Kdj09H"
      }
    },
    {
      "cell_type": "code",
      "source": [
        "import numpy as np\n",
        "import matplotlib.pyplot as plt\n",
        "import matplotlib.colors as mcolors\n",
        "import matplotlib.patches as mpatches"
      ],
      "metadata": {
        "id": "BgUbSI06j0e4"
      },
      "execution_count": null,
      "outputs": []
    },
    {
      "cell_type": "code",
      "source": [
        "# Initialization\n",
        "def initialize_population(population_size, num_tasks, num_robots):\n",
        "    return [np.random.randint(0, num_robots, size=num_tasks) for _ in range(population_size)]"
      ],
      "metadata": {
        "id": "UTcY-sdrl-OV"
      },
      "execution_count": null,
      "outputs": []
    },
    {
      "cell_type": "code",
      "source": [
        "# Function to generate mock data for tasks and robots\n",
        "def generate_mock_data(num_tasks=10, num_robots=5):\n",
        "    task_durations = np.random.randint(1, 11, size=num_tasks)  # Random task durations between 1 and 10 hours\n",
        "    task_priorities = np.random.randint(1, 6, size=num_tasks)  # Random task priorities between 1 and 5\n",
        "    robot_efficiencies = np.random.uniform(0.5, 1.5, size=num_robots)  # Random robot efficiencies between 0.5 and 1.5\n",
        "    return task_durations, task_priorities, robot_efficiencies"
      ],
      "metadata": {
        "id": "nSsaLZiUlwz6"
      },
      "execution_count": null,
      "outputs": []
    },
    {
      "cell_type": "code",
      "source": [
        "# Fitness Function\n",
        "def calculate_fitness(individual, task_durations, task_priorities, robot_efficiencies):\n",
        "    robot_times = np.zeros(len(robot_efficiencies))\n",
        "    for i, robot_index in enumerate(individual):\n",
        "        robot_times[robot_index] += (task_durations[i] * task_priorities[i]) / robot_efficiencies[robot_index]\n",
        "    total_time = max(robot_times)\n",
        "    balance = np.std(robot_times)\n",
        "    fitness = 1 / (total_time + balance)  # Minimize total time and balance\n",
        "    return fitness"
      ],
      "metadata": {
        "id": "E48P5zYJmDWb"
      },
      "execution_count": null,
      "outputs": []
    },
    {
      "cell_type": "code",
      "source": [
        "# Selection\n",
        "def tournament_selection(population, fitnesses, k=3):\n",
        "    winners = []\n",
        "    for _ in range(len(population)):\n",
        "        tournament = np.random.choice(len(population), k, replace=False)\n",
        "        best_in_tournament = tournament[np.argmax([fitnesses[i] for i in tournament])]\n",
        "        winners.append(population[best_in_tournament])\n",
        "    return winners"
      ],
      "metadata": {
        "id": "NOSevSgymHha"
      },
      "execution_count": null,
      "outputs": []
    },
    {
      "cell_type": "code",
      "source": [
        "# Crossover\n",
        "def crossover(parents, num_tasks, offspring_size):\n",
        "    offspring = []\n",
        "    while len(offspring) < offspring_size:\n",
        "        parent1, parent2 = np.random.choice(len(parents), 2, replace=False)\n",
        "        crossover_point = np.random.randint(1, num_tasks - 1)\n",
        "        child1 = np.concatenate([parents[parent1][:crossover_point], parents[parent2][crossover_point:]])\n",
        "        child2 = np.concatenate([parents[parent2][:crossover_point], parents[parent1][crossover_point:]])\n",
        "        offspring.extend([child1, child2])\n",
        "    return offspring[:offspring_size]"
      ],
      "metadata": {
        "id": "AuAZoTZWmNUh"
      },
      "execution_count": null,
      "outputs": []
    },
    {
      "cell_type": "code",
      "source": [
        "# Mutation (Task Swapping)\n",
        "def mutate(offspring, num_tasks, mutation_rate=0.1):\n",
        "    for child in offspring:\n",
        "        if np.random.rand() < mutation_rate:\n",
        "            swap_points = np.random.choice(num_tasks, 2, replace=False)\n",
        "            child[swap_points[0]], child[swap_points[1]] = child[swap_points[1]], child[swap_points[0]]\n",
        "    return offspring"
      ],
      "metadata": {
        "id": "sLfEr2GemTC6"
      },
      "execution_count": null,
      "outputs": []
    },
    {
      "cell_type": "code",
      "source": [
        "# GA Algorithm\n",
        "def run_genetic_algorithm(task_durations, task_priorities, robot_efficiencies):\n",
        "    population_size = 50\n",
        "    n_generations = 100\n",
        "    population = initialize_population(population_size, len(task_durations), len(robot_efficiencies))\n",
        "\n",
        "    for generation in range(n_generations):\n",
        "        fitnesses = [calculate_fitness(ind, task_durations, task_priorities, robot_efficiencies) for ind in population]\n",
        "        selected = tournament_selection(population, fitnesses)\n",
        "        offspring_crossover = crossover(selected, len(task_durations), population_size - len(selected))\n",
        "        offspring_mutation = mutate(offspring_crossover, len(task_durations))\n",
        "        population = selected + offspring_mutation\n",
        "\n",
        "    # Identify the best solution\n",
        "    fitnesses = [calculate_fitness(ind, task_durations, task_priorities, robot_efficiencies) for ind in population]\n",
        "    best_index = np.argmax(fitnesses)\n",
        "    best_solution = population[best_index]\n",
        "\n",
        "    return best_solution\n"
      ],
      "metadata": {
        "id": "uHPllB0Yl51Q"
      },
      "execution_count": null,
      "outputs": []
    },
    {
      "cell_type": "code",
      "source": [
        "# Improved visualization function\n",
        "def visualize_assignments_improved(solution, task_durations, task_priorities, robot_efficiencies):\n",
        "    grid = np.zeros((len(robot_efficiencies), len(task_durations)))\n",
        "    for task_idx, robot_idx in enumerate(solution):\n",
        "        grid[robot_idx, task_idx] = task_durations[task_idx]\n",
        "\n",
        "    fig, ax = plt.subplots(figsize=(12, 6))\n",
        "    cmap = mcolors.LinearSegmentedColormap.from_list(\"\", [\"white\", \"blue\"])  # Custom colormap\n",
        "\n",
        "    # Display the grid with task durations\n",
        "    cax = ax.matshow(grid, cmap=cmap)\n",
        "    fig.colorbar(cax, label='Task Duration (hours)')\n",
        "\n",
        "    # Annotate each cell with task priority and duration\n",
        "    for i in range(len(robot_efficiencies)):\n",
        "        for j in range(len(task_durations)):\n",
        "            if grid[i, j] != 0:\n",
        "                ax.text(j, i, 'P'f'{task_priorities[j]}\\n{grid[i, j]}h', ha='center', va='center', color='black')\n",
        "\n",
        "    # Set the ticks and labels for tasks and robots\n",
        "    ax.set_xticks(np.arange(len(task_durations)))\n",
        "    ax.set_yticks(np.arange(len(robot_efficiencies)))\n",
        "    ax.set_xticklabels([f'Task {i+1}' for i in range(len(task_durations))], rotation=45, ha=\"left\")\n",
        "    ax.set_yticklabels([f'Robot {i+1} (Efficiency: {eff:.2f})' for i, eff in enumerate(robot_efficiencies)])\n",
        "\n",
        "    plt.xlabel('Tasks')\n",
        "    plt.ylabel('Robots')\n",
        "    plt.title('Task Assignments with Task Duration and Priority')\n",
        "\n",
        "    # Create a legend for task priorities\n",
        "    priority_patches = [mpatches.Patch(color='white', label=f'Priority {i}') for i in range(1, 6)]\n",
        "    plt.legend(handles=priority_patches, bbox_to_anchor=(1.20, 1), loc='upper left', title=\"Task Priorities\")\n",
        "\n",
        "    plt.tight_layout()\n",
        "    plt.show()\n"
      ],
      "metadata": {
        "id": "yU21A2ZYmcEC"
      },
      "execution_count": null,
      "outputs": []
    },
    {
      "cell_type": "code",
      "source": [
        "# Main execution\n",
        "if __name__ == \"__main__\":\n",
        "    num_tasks = 10\n",
        "    num_robots = 5\n",
        "    task_durations, task_priorities, robot_efficiencies = generate_mock_data(num_tasks, num_robots)\n",
        "\n",
        "    # Run GA to find the best solution\n",
        "    best_solution = run_genetic_algorithm(task_durations, task_priorities, robot_efficiencies)\n",
        "\n",
        "    # Visualize the initial random assignment\n",
        "    visualize_assignments_improved(best_solution, task_durations, task_priorities, robot_efficiencies)"
      ],
      "metadata": {
        "id": "0pFgfu3wmf2i"
      },
      "execution_count": null,
      "outputs": []
    }
  ]
}